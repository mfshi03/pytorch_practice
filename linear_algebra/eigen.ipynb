{
 "cells": [
  {
   "cell_type": "markdown",
   "metadata": {},
   "source": [
    "**Problem:**\n",
    "Given the following matrix A:\n",
    "\n",
    "$A = \\begin{pmatrix}\n",
    "    1 & 2  \\\\\n",
    "    2 & 4 \\\\ \n",
    "\\end{pmatrix}$\n",
    "\n",
    "is already singular. Find its $\\lambda$'s and $x$'s\n",
    "\n",
    "Problem from [Introduction to Linear Algebra, 5th Ed](https://math.mit.edu/~gs/linearalgebra/ila5/linearalgebra5_6-1.pdf)\n"
   ]
  },
  {
   "cell_type": "code",
   "execution_count": 27,
   "metadata": {},
   "outputs": [
    {
     "data": {
      "text/plain": [
       "tensor([[1., 2.],\n",
       "        [2., 4.]])"
      ]
     },
     "execution_count": 27,
     "metadata": {},
     "output_type": "execute_result"
    }
   ],
   "source": [
    "import torch \n",
    "\n",
    "A = torch.Tensor([[1, 2], [2, 4]])\n",
    "\n",
    "A\n"
   ]
  },
  {
   "cell_type": "markdown",
   "metadata": {},
   "source": [
    "$A = \\begin{pmatrix} \n",
    "a & b \\\\\n",
    "c & d \n",
    "\\end{pmatrix}$\n",
    "\n",
    "$\\det(A - \\lambda I) = \\det{ \\begin{pmatrix} a - \\lambda & b \\\\ c & d - \\lambda \\end{pmatrix}}$\n",
    "\n",
    "$ = \\lambda^2 - (a + d)\\lambda + (ad - bc)$\n",
    "\n",
    "$\\lambda^2 - (a + d)\\lambda = 0$\n",
    "\n",
    "$\\lambda(\\lambda - (a + d)) = 0$\n",
    "\n",
    "$${\\lambda}_1 = 0$$\n",
    "$${\\lambda}_2 = a + d$$"
   ]
  },
  {
   "cell_type": "code",
   "execution_count": 29,
   "metadata": {},
   "outputs": [
    {
     "data": {
      "text/plain": [
       "tensor([0., 5.])"
      ]
     },
     "execution_count": 29,
     "metadata": {},
     "output_type": "execute_result"
    }
   ],
   "source": [
    "l1 = 0.0 # Since the matrix is singular, we know that one eigenvalue must be 0\n",
    "l2 = A.trace() #take the sum of diagnal\n",
    "sol = torch.Tensor([0.0, l2])\n",
    "sol"
   ]
  },
  {
   "cell_type": "markdown",
   "metadata": {},
   "source": [
    "**[QR Decomposition](https://en.wikipedia.org/wiki/QR_decomposition)**"
   ]
  },
  {
   "cell_type": "code",
   "execution_count": 31,
   "metadata": {},
   "outputs": [
    {
     "data": {
      "text/plain": [
       "tensor([-2.2361e+00, -1.0834e-08])"
      ]
     },
     "execution_count": 31,
     "metadata": {},
     "output_type": "execute_result"
    }
   ],
   "source": [
    "n  = A.size(0)\n",
    "Q = torch.rand(n, n)\n",
    "\n",
    "\n",
    "Q, R = torch.linalg.qr(A, mode=\"complete\")\n",
    "\n",
    "sol = torch.diag(R)\n",
    "\n",
    "sol\n",
    "\n"
   ]
  },
  {
   "cell_type": "code",
   "execution_count": 32,
   "metadata": {},
   "outputs": [
    {
     "data": {
      "text/plain": [
       "tensor([0.+0.j, 5.+0.j])"
      ]
     },
     "execution_count": 32,
     "metadata": {},
     "output_type": "execute_result"
    }
   ],
   "source": [
    "eigvals = torch.linalg.eigvals(A)\n",
    "eigvals"
   ]
  }
 ],
 "metadata": {
  "kernelspec": {
   "display_name": "Python 3 (ipykernel)",
   "language": "python",
   "name": "python3"
  },
  "language_info": {
   "codemirror_mode": {
    "name": "ipython",
    "version": 3
   },
   "file_extension": ".py",
   "mimetype": "text/x-python",
   "name": "python",
   "nbconvert_exporter": "python",
   "pygments_lexer": "ipython3",
   "version": "3.10.0"
  }
 },
 "nbformat": 4,
 "nbformat_minor": 4
}
